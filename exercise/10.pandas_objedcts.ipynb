{
 "cells": [
  {
   "cell_type": "code",
   "execution_count": 1,
   "id": "dccb58f8-192b-4455-9214-16db93336f50",
   "metadata": {},
   "outputs": [],
   "source": [
    "import pandas as pd\n",
    "import numpy as np"
   ]
  },
  {
   "cell_type": "code",
   "execution_count": 4,
   "id": "3c125c22-d7f3-4960-b3c7-01be2e5e6c48",
   "metadata": {},
   "outputs": [
    {
     "name": "stdout",
     "output_type": "stream",
     "text": [
      "0    0.25\n",
      "1    0.50\n",
      "2    0.75\n",
      "3    1.00\n",
      "dtype: float64\n"
     ]
    }
   ],
   "source": [
    "\"\"\"\n",
    "    pandas object: series\n",
    "\"\"\"\n",
    "\n",
    "#Create a serise from an array\n",
    "\n",
    "ser = pd.Series([0.25, 0.5, 0.75, 1.0])\n",
    "print(ser)"
   ]
  },
  {
   "cell_type": "code",
   "execution_count": 5,
   "id": "31f59fec-419e-48ec-988a-04a0e5fc9a14",
   "metadata": {},
   "outputs": [
    {
     "name": "stdout",
     "output_type": "stream",
     "text": [
      "[0.25 0.5  0.75 1.  ]\n",
      "RangeIndex(start=0, stop=4, step=1)\n"
     ]
    }
   ],
   "source": [
    "# Two main attributes: 'values' and 'index'\n",
    "\n",
    "arr = ser.values\n",
    "print(arr)\n",
    "\n",
    "ind = ser.index\n",
    "print(ind)"
   ]
  },
  {
   "cell_type": "code",
   "execution_count": 8,
   "id": "50aecc01-0b4e-4f34-a867-526fff6b234b",
   "metadata": {},
   "outputs": [
    {
     "name": "stdout",
     "output_type": "stream",
     "text": [
      "a    0.25\n",
      "b    0.50\n",
      "c    0.75\n",
      "d    1.00\n",
      "dtype: float64\n",
      "Index(['a', 'b', 'c', 'd'], dtype='object')\n"
     ]
    }
   ],
   "source": [
    "# Label-based Indexing\n",
    "ser = pd.Series([0.25,0.5,0.75,1.0], index=['a', 'b', 'c', 'd'])\n",
    "print(ser)\n",
    "ind = ser.index\n",
    "print(ind)"
   ]
  },
  {
   "cell_type": "code",
   "execution_count": 9,
   "id": "a9c0fcb8-6f07-4926-a676-07e52b1b91e3",
   "metadata": {},
   "outputs": [
    {
     "name": "stdout",
     "output_type": "stream",
     "text": [
      "{'a': 1, 2: 'two', 'third': True}\n"
     ]
    }
   ],
   "source": [
    "\"\"\"\n",
    "Dictionary \n",
    "\"\"\"\n",
    "\n",
    "dict = {'a' : 1, 2 : 'two', 'third' : True}\n",
    "print(dict)\n"
   ]
  },
  {
   "cell_type": "code",
   "execution_count": 15,
   "id": "723408a0-1b9c-4fcb-b181-b4ae8b86c28a",
   "metadata": {},
   "outputs": [
    {
     "name": "stdout",
     "output_type": "stream",
     "text": [
      "a           1\n",
      "2         two\n",
      "third    True\n",
      "dtype: object\n",
      "California    38332521\n",
      "Texas         26448193\n",
      "New York      26448193\n",
      "Florida       26448193\n",
      "Illinois      26448193\n",
      "dtype: int64\n",
      "Texas       26448193\n",
      "New York    26448193\n",
      "Florida     26448193\n",
      "Illinois    26448193\n",
      "dtype: int64\n"
     ]
    }
   ],
   "source": [
    "\"\"\"\n",
    "Create a series form a dictionary\n",
    "\"\"\"\n",
    "\n",
    "ser = pd.Series(dict)\n",
    "print(ser)\n",
    "\n",
    "population_dict = {'California' : 38332521,\n",
    "                   'Texas' : 26448193,\n",
    "                   'New York' : 26448193,\n",
    "                   'Florida' : 26448193,\n",
    "                   'Illinois' : 26448193,\n",
    "                  }\n",
    "population = pd.Series(population_dict)\n",
    "print(population)\n",
    "\n",
    "print(population['Texas' : 'Illinois'])\n"
   ]
  },
  {
   "cell_type": "code",
   "execution_count": 16,
   "id": "fb966181-1302-4d0e-9b47-f9e98e159764",
   "metadata": {},
   "outputs": [
    {
     "name": "stdout",
     "output_type": "stream",
     "text": [
      "California    38332521\n",
      "Texas         26448193\n",
      "New York      26448193\n",
      "Florida       26448193\n",
      "Illinois      26448193\n",
      "dtype: int64\n"
     ]
    }
   ],
   "source": [
    "\"\"\"\n",
    "Pandas Objects: DataFrame\n",
    "\"\"\"\n",
    "\n",
    "area_dict = {'California' : 38332521,\n",
    "                   'Texas' : 26448193,\n",
    "                   'New York' : 26448193,\n",
    "                   'Florida' : 26448193,\n",
    "                   'Illinois' : 26448193,\n",
    "                  }\n",
    "\n",
    "area = pd.Series(area_dict)\n",
    "print(area)\n"
   ]
  },
  {
   "cell_type": "code",
   "execution_count": 20,
   "id": "2fc693a4-bae5-4699-baf7-8973ad0e4092",
   "metadata": {},
   "outputs": [
    {
     "name": "stdout",
     "output_type": "stream",
     "text": [
      "            population      area\n",
      "California    38332521  38332521\n",
      "Texas         26448193  26448193\n",
      "New York      26448193  26448193\n",
      "Florida       26448193  26448193\n",
      "Illinois      26448193  26448193\n",
      "Index(['California', 'Texas', 'New York', 'Florida', 'Illinois'], dtype='object')\n",
      "Index(['population', 'area'], dtype='object')\n"
     ]
    }
   ],
   "source": [
    "# Construct a DataFrame containing ;population' and 'area'\n",
    "\n",
    "states = pd.DataFrame({'population': population, 'area': area})\n",
    "print(states)\n",
    "print(states.index)\n",
    "print(states.columns)"
   ]
  },
  {
   "cell_type": "code",
   "execution_count": null,
   "id": "3a2f55ed-b376-462d-b0e8-c90204a5a695",
   "metadata": {},
   "outputs": [],
   "source": [
    "\n",
    "states = pd.DataFrame({'population' : population, 'area' : area})\n",
    "print(states)"
   ]
  },
  {
   "cell_type": "code",
   "execution_count": null,
   "id": "77734640-f2d8-4294-a8b4-9740fce5347f",
   "metadata": {},
   "outputs": [],
   "source": [
    "arr =np.random.rand(3, 2)\n",
    "print(arr, '\\n')\n",
    "\n",
    "pd.DataFrame(arr, columns=['foo', 'bar'], index=['a', 'b', 'c'])\n"
   ]
  },
  {
   "cell_type": "code",
   "execution_count": null,
   "id": "313d498a-f65e-472b-9654-3849a4947ea7",
   "metadata": {},
   "outputs": [],
   "source": [
    "\"\"\"\n",
    "Series object manipulation : dictionary-style\n",
    "\"\"\"\n",
    "\n",
    "ser =pd.Series([0.25, 0.5, 0.75, 1.0], \n",
    "               index=['a', 'b', 'c', 'd'])\n",
    "\n",
    "print(0.25 in ser)"
   ]
  },
  {
   "cell_type": "code",
   "execution_count": null,
   "id": "a5b16b31-c44c-46db-9aba-6d64c011cbff",
   "metadata": {},
   "outputs": [],
   "source": [
    "\"\"\"\n",
    "Series object\n",
    "\"\"\"\n",
    "\n"
   ]
  },
  {
   "cell_type": "code",
   "execution_count": null,
   "id": "5d08c7fe-7cf3-4245-b1e5-6a1cd33bc69f",
   "metadata": {},
   "outputs": [],
   "source": []
  },
  {
   "cell_type": "code",
   "execution_count": null,
   "id": "b09f9591-fd4e-4f97-a113-c211d7e4d90c",
   "metadata": {},
   "outputs": [],
   "source": []
  },
  {
   "cell_type": "code",
   "execution_count": null,
   "id": "d40fd5a8-31ea-468c-a440-1dd82a7f9437",
   "metadata": {},
   "outputs": [],
   "source": []
  },
  {
   "cell_type": "code",
   "execution_count": null,
   "id": "401b1473-f0c3-46ec-b670-2699d9d82dcf",
   "metadata": {},
   "outputs": [],
   "source": []
  }
 ],
 "metadata": {
  "kernelspec": {
   "display_name": "Python 3",
   "language": "python",
   "name": "python3"
  },
  "language_info": {
   "codemirror_mode": {
    "name": "ipython",
    "version": 3
   },
   "file_extension": ".py",
   "mimetype": "text/x-python",
   "name": "python",
   "nbconvert_exporter": "python",
   "pygments_lexer": "ipython3",
   "version": "3.8.8"
  }
 },
 "nbformat": 4,
 "nbformat_minor": 5
}
