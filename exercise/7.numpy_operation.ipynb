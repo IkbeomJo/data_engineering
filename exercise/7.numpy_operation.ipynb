{
 "cells": [
  {
   "cell_type": "code",
   "execution_count": 2,
   "id": "266aac87-901c-4175-a9f0-fb14cd41df27",
   "metadata": {},
   "outputs": [],
   "source": [
    "import numpy as np"
   ]
  },
  {
   "cell_type": "code",
   "execution_count": 3,
   "id": "beb5bd42-bc09-415f-b530-f74aab4c0d50",
   "metadata": {},
   "outputs": [
    {
     "name": "stdout",
     "output_type": "stream",
     "text": [
      "[0 1 2]\n",
      "[3 4 5 6 7 8]\n",
      "[3 6]\n"
     ]
    }
   ],
   "source": [
    "\"\"\"\n",
    "NumPy Array Attributes\n",
    "\"\"\"\n",
    "\n",
    "print(np.arange(3))\n",
    "print(np.arange(3,9))\n",
    "print(np.arange(3,9,3))"
   ]
  },
  {
   "cell_type": "code",
   "execution_count": 4,
   "id": "04332b46-4ee2-44ff-83d0-f228edf9287c",
   "metadata": {},
   "outputs": [
    {
     "name": "stdout",
     "output_type": "stream",
     "text": [
      "[[[44 47 64 67 67]\n",
      "  [ 9 83 21 36 87]\n",
      "  [70 88 88 12 58]\n",
      "  [65 39 87 46 88]]\n",
      "\n",
      " [[81 37 25 77 72]\n",
      "  [ 9 20 80 69 79]\n",
      "  [47 64 82 99 88]\n",
      "  [49 29 19 19 14]]\n",
      "\n",
      " [[39 32 65  9 57]\n",
      "  [32 31 74 23 35]\n",
      "  [75 55 28 34  0]\n",
      "  [ 0 36 53  5 38]]]\n"
     ]
    }
   ],
   "source": [
    "# Random number generator\n",
    "\n",
    "np.random.seed(0)\n",
    "arr1 = np.random.randint(100, size=(3, 4, 5))\n",
    "print(arr1)"
   ]
  },
  {
   "cell_type": "code",
   "execution_count": 5,
   "id": "1d232f81-a63b-4eb8-8f4f-f472e444a93a",
   "metadata": {},
   "outputs": [
    {
     "name": "stdout",
     "output_type": "stream",
     "text": [
      "[[5 8 9 5]\n",
      " [0 0 1 7]\n",
      " [6 9 2 4]]\n",
      "arr.ndim =  2\n",
      "arr.shape =  (3, 4)\n",
      "arr.size =  12\n",
      "arr.dtype =  int32\n",
      "arr.itemsize =  4\n",
      "arr.nbytes =  48\n"
     ]
    }
   ],
   "source": [
    "# Attributes\n",
    "\n",
    "np.random.seed(1)\n",
    "arr = np.random.randint(10, size=(3, 4))\n",
    "print(arr)\n",
    "\n",
    "print(\"arr.ndim = \", arr.ndim)\n",
    "print(\"arr.shape = \", arr.shape)\n",
    "print(\"arr.size = \", arr.size)\n",
    "print(\"arr.dtype = \", arr.dtype)\n",
    "print(\"arr.itemsize = \", arr.itemsize)\n",
    "print(\"arr.nbytes = \", arr.nbytes)"
   ]
  },
  {
   "cell_type": "code",
   "execution_count": 6,
   "id": "c16d1ad1-7ff3-4bb6-b1ce-213eeb02055e",
   "metadata": {},
   "outputs": [
    {
     "name": "stdout",
     "output_type": "stream",
     "text": [
      "[[5 2 4 2]\n",
      " [4 7 7 9]\n",
      " [1 7 0 6]]\n",
      "[[5 2 4]\n",
      " [4 7 7]]\n"
     ]
    }
   ],
   "source": [
    "\"\"\"\n",
    "slicing\n",
    "\"\"\"\n",
    "\n",
    "arr = np.random.randint(10, size=(3, 4))\n",
    "print(arr)\n",
    "print(arr[:2, :3])"
   ]
  },
  {
   "cell_type": "code",
   "execution_count": 7,
   "id": "6e1a23e2-478e-43dd-bd58-2bb363864dd8",
   "metadata": {},
   "outputs": [
    {
     "name": "stdout",
     "output_type": "stream",
     "text": [
      "[[8 8 6 2 8 7 2 1]\n",
      " [5 4 4 5 7 3 6 4]\n",
      " [3 7 6 1 3 5 8 4]\n",
      " [6 3 9 2 0 4 2 4]\n",
      " [1 7 8 2 9 8 7 1]\n",
      " [6 8 5 9 9 9 3 0]]\n",
      "[[8 8]\n",
      " [5 4]]\n",
      "[[99  8]\n",
      " [ 5  4]]\n",
      "[[99  8  6  2  8  7  2  1]\n",
      " [ 5  4  4  5  7  3  6  4]\n",
      " [ 3  7  6  1  3  5  8  4]\n",
      " [ 6  3  9  2  0  4  2  4]\n",
      " [ 1  7  8  2  9  8  7  1]\n",
      " [ 6  8  5  9  9  9  3  0]]\n"
     ]
    }
   ],
   "source": [
    "# Multi-dimensional Subarrays\n",
    "\n",
    "np.random.seed(2)\n",
    "arr = np.random.randint(10, size=(6,8))\n",
    "print(arr)\n",
    "\n",
    "arr_sum= arr[:2,:2]\n",
    "print(arr_sum)\n",
    "\n",
    "arr_sum[0, 0]=99\n",
    "print(arr_sum)\n",
    "\n",
    "print(arr)"
   ]
  },
  {
   "cell_type": "code",
   "execution_count": 8,
   "id": "cb4eb030-d787-4caa-b5c9-295335a1d6bd",
   "metadata": {},
   "outputs": [
    {
     "name": "stdout",
     "output_type": "stream",
     "text": [
      "[[8 9 3 8 8 0 5 3]\n",
      " [9 9 5 7 6 0 4 7]\n",
      " [8 1 6 2 2 1 3 5]\n",
      " [8 1 8 7 8 1 0 5]\n",
      " [4 1 5 4 7 6 0 0]\n",
      " [9 2 4 5 8 8 7 5]]\n",
      "[[8 9]\n",
      " [9 9]]\n",
      "[[99  9]\n",
      " [ 9  9]]\n",
      "[[8 9 3 8 8 0 5 3]\n",
      " [9 9 5 7 6 0 4 7]\n",
      " [8 1 6 2 2 1 3 5]\n",
      " [8 1 8 7 8 1 0 5]\n",
      " [4 1 5 4 7 6 0 0]\n",
      " [9 2 4 5 8 8 7 5]]\n"
     ]
    }
   ],
   "source": [
    "\"\"\"\n",
    "Subarrays as no-copy views\n",
    "\"\"\"\n",
    "\n",
    "np.random.seed(3)\n",
    "arr = np.random.randint(10, size=[6, 8])\n",
    "print(arr)\n",
    "\n",
    "arr_sub = arr[:2, :2].copy()\n",
    "print(arr_sub)\n",
    "\n",
    "arr_sub[0,0] = 99\n",
    "print(arr_sub)\n",
    "\n",
    "print(arr)\n"
   ]
  },
  {
   "cell_type": "code",
   "execution_count": 4,
   "id": "230d17ed-f82c-4298-86f0-1965afd62184",
   "metadata": {},
   "outputs": [
    {
     "name": "stdout",
     "output_type": "stream",
     "text": [
      "[1 2 3 4 5 6 7 8 9]\n",
      "[[1 2 3]\n",
      " [4 5 6]\n",
      " [7 8 9]]\n"
     ]
    }
   ],
   "source": [
    "\"\"\"\n",
    "Reshaping of Arrays\n",
    "\"\"\"\n",
    "\n",
    "arr = np.arange(1,10)\n",
    "print(arr)\n",
    "grid = arr.reshape(3,3)\n",
    "print(grid)"
   ]
  },
  {
   "cell_type": "code",
   "execution_count": 14,
   "id": "681c51f3-1580-449b-992c-99025f3ccdc8",
   "metadata": {},
   "outputs": [
    {
     "name": "stdout",
     "output_type": "stream",
     "text": [
      "[3 5 8]\n",
      "(3,) \n",
      "\n",
      "[[3 5 8]]\n",
      "(1, 3) \n",
      "\n",
      "[[3]\n",
      " [5]\n",
      " [8]]\n",
      "(3, 1) \n",
      "\n"
     ]
    }
   ],
   "source": [
    "#np.newaxis\n",
    "\n",
    "arr = np.array([3,5,8])\n",
    "print(arr)\n",
    "print(arr.shape, \"\\n\")\n",
    "\n",
    "arr_new = arr[np.newaxis, :]\n",
    "print(arr_new)\n",
    "print(arr_new.shape, '\\n')\n",
    "\n",
    "arr_new = arr[:, np.newaxis]\n",
    "print(arr_new)\n",
    "print(arr_new.shape, '\\n')"
   ]
  },
  {
   "cell_type": "code",
   "execution_count": 25,
   "id": "ded0fce8-797f-4bfb-b4a8-12b1e83ef774",
   "metadata": {},
   "outputs": [
    {
     "name": "stdout",
     "output_type": "stream",
     "text": [
      "[[1 2 3]\n",
      " [1 2 3]\n",
      " [4 5 6]\n",
      " [4 5 6]\n",
      " [7 8 9]\n",
      " [7 8 9]]\n",
      "[[1 2 3]\n",
      " [1 2 3]\n",
      " [4 5 6]\n",
      " [4 5 6]\n",
      " [7 8 9]\n",
      " [7 8 9]]\n",
      "[[1 2 3 4 5 6 7 8 9]\n",
      " [1 2 3 4 5 6 7 8 9]]\n"
     ]
    }
   ],
   "source": [
    "\"\"\"\n",
    "Array Concatenation\n",
    "\"\"\"\n",
    "\n",
    "arr_1 = np.array([[1, 2, 3],[1, 2, 3]])\n",
    "arr_2 = np.array([[4, 5, 6],[4, 5, 6]])\n",
    "arr_3 = np.array([[7, 8, 9],[7, 8, 9]])\n",
    "\n",
    "arr_total = np.concatenate([arr_1, arr_2, arr_3], axis=0)\n",
    "print(arr_total)\n",
    "\n",
    "arr_total = np.vstack([arr_1, arr_2, arr_3])\n",
    "print(arr_total)\n",
    "\n",
    "arr_total = np.hstack([arr_1, arr_2, arr_3])\n",
    "print(arr_total)"
   ]
  },
  {
   "cell_type": "code",
   "execution_count": 34,
   "id": "21236ba7-c178-46d6-ace2-32f665770934",
   "metadata": {},
   "outputs": [
    {
     "name": "stdout",
     "output_type": "stream",
     "text": [
      "[1, 2, 3, 4, 5, 6, 7, 8] \n",
      "\n",
      "[1 2 3] [4 5 6 7 8]\n"
     ]
    }
   ],
   "source": [
    "\"\"\"\n",
    "Array splitting\n",
    "\"\"\"\n",
    "\n",
    "arr = [1, 2, 3, 4, 5, 6, 7, 8]\n",
    "print(arr, '\\n')\n",
    "\n",
    "arr_1, arr_2, arr_3 = np.split(arr, [3, 8])\n",
    "print(arr_1, arr_2)"
   ]
  },
  {
   "cell_type": "code",
   "execution_count": null,
   "id": "c6df0793-64fd-4349-bd19-d5ec3d59d85b",
   "metadata": {},
   "outputs": [],
   "source": []
  }
 ],
 "metadata": {
  "kernelspec": {
   "display_name": "Python 3",
   "language": "python",
   "name": "python3"
  },
  "language_info": {
   "codemirror_mode": {
    "name": "ipython",
    "version": 3
   },
   "file_extension": ".py",
   "mimetype": "text/x-python",
   "name": "python",
   "nbconvert_exporter": "python",
   "pygments_lexer": "ipython3",
   "version": "3.8.8"
  }
 },
 "nbformat": 4,
 "nbformat_minor": 5
}
