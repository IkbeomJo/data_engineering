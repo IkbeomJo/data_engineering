{
 "cells": [
  {
   "cell_type": "code",
   "execution_count": 6,
   "metadata": {
    "colab": {
     "base_uri": "https://localhost:8080/"
    },
    "executionInfo": {
     "elapsed": 257,
     "status": "ok",
     "timestamp": 1633198111129,
     "user": {
      "displayName": "조익범",
      "photoUrl": "https://lh3.googleusercontent.com/a/default-user=s64",
      "userId": "14327429975968192412"
     },
     "user_tz": -540
    },
    "id": "Ek1aAHiz6MBf",
    "outputId": "c8f99e19-ce0f-44ce-e755-dcbd1e1fea48"
   },
   "outputs": [
    {
     "name": "stdout",
     "output_type": "stream",
     "text": [
      "Hello World\n",
      "100\n",
      "3.14\n",
      "My name is Ik Beom!\n"
     ]
    }
   ],
   "source": [
    "\"\"\"\n",
    "print() function\n",
    "\"\"\"\n",
    "print(\"Hello World\")\n",
    "print(100)\n",
    "pi=3.14\n",
    "print(pi)\n",
    "\n",
    "intro = \"My name is \"\n",
    "name = \"Ik Beom\"\n",
    "print(intro + name + \"!\")"
   ]
  },
  {
   "cell_type": "code",
   "execution_count": 7,
   "metadata": {
    "executionInfo": {
     "elapsed": 270,
     "status": "ok",
     "timestamp": 1633198374182,
     "user": {
      "displayName": "조익범",
      "photoUrl": "https://lh3.googleusercontent.com/a/default-user=s64",
      "userId": "14327429975968192412"
     },
     "user_tz": -540
    },
    "id": "JfeXD9PJMjg-"
   },
   "outputs": [],
   "source": [
    "\"\"\"\n",
    "Variables\n",
    "\"\"\"\n",
    "\n",
    "# 나를 표현할 수 있는 정보 세 가지를 이상을 변수로 선언하라\n",
    "\n",
    "user_name = \"Ik Beom\"\n",
    "user_phone = \"01021087320\"\n",
    "user_age = \"23\"\n",
    "user_height = \"177\""
   ]
  },
  {
   "cell_type": "code",
   "execution_count": null,
   "metadata": {
    "id": "hAKx2QvKNYeX"
   },
   "outputs": [],
   "source": [
    "\"\"\"\n",
    "Data type: Integers\n",
    "\"\"\"\n",
    "\n",
    "# 집에 있는 세 가지 이상의 사물의 개수를 정수 변수로 정의하라\n",
    "\n",
    "TV = 2\n",
    "restroom = 3\n",
    "computer = 2\n",
    "air_conditioner = 4"
   ]
  },
  {
   "cell_type": "code",
   "execution_count": null,
   "metadata": {
    "id": "F-AsXXPLObhi"
   },
   "outputs": [],
   "source": [
    "\"\"\"\n",
    "Data Type: Real Numbers\n",
    "\"\"\"\n",
    "\n",
    "# 본인이 알고있는 세 개의 실수를 변수로 정의하라\n",
    "\n",
    "PI = 3.14\n",
    "KOSDAQ_Index = 983.20\n",
    "BTC_DOMINANCE = 41.78\n"
   ]
  },
  {
   "cell_type": "code",
   "execution_count": 11,
   "metadata": {
    "colab": {
     "base_uri": "https://localhost:8080/"
    },
    "executionInfo": {
     "elapsed": 263,
     "status": "ok",
     "timestamp": 1633199735506,
     "user": {
      "displayName": "조익범",
      "photoUrl": "https://lh3.googleusercontent.com/a/default-user=s64",
      "userId": "14327429975968192412"
     },
     "user_tz": -540
    },
    "id": "eJQUUA2qQkg2",
    "outputId": "f92b3642-f012-42ee-8c5e-0514e7bead89"
   },
   "outputs": [
    {
     "name": "stdout",
     "output_type": "stream",
     "text": [
      "Fried chicken\n",
      "Lostark\n",
      "IU\n",
      "Fried chickenLostarkIU\n"
     ]
    }
   ],
   "source": [
    "\"\"\"\n",
    "Data Type: Strings\n",
    "\"\"\"\n",
    "\n",
    "# 내가 좋아하는 세가지를 문자열로 정의하라\n",
    "\n",
    "favorite_food = \"Fried chicken\"\n",
    "favorite_game = 'Lostark'\n",
    "favorite_musician = 'IU'\n",
    "\n",
    "print(favorite_food)\n",
    "print(favorite_game)\n",
    "print(favorite_musician)\n",
    "\n",
    "favorites = favorite_food + favorite_game + favorite_musician\n",
    "\n",
    "print(favorites)"
   ]
  },
  {
   "cell_type": "code",
   "execution_count": 12,
   "metadata": {
    "colab": {
     "base_uri": "https://localhost:8080/"
    },
    "executionInfo": {
     "elapsed": 273,
     "status": "ok",
     "timestamp": 1633199843952,
     "user": {
      "displayName": "조익범",
      "photoUrl": "https://lh3.googleusercontent.com/a/default-user=s64",
      "userId": "14327429975968192412"
     },
     "user_tz": -540
    },
    "id": "HcSMnT0CSqYU",
    "outputId": "ee584fba-c88f-41e8-d3cb-a458bcce32a6"
   },
   "outputs": [
    {
     "name": "stdout",
     "output_type": "stream",
     "text": [
      "64\n"
     ]
    }
   ],
   "source": [
    "\"\"\"\n",
    "x-Equals Operations\n",
    "\"\"\"\n",
    "\n",
    "x = 4\n",
    "x **= 3\n",
    "print(x)"
   ]
  },
  {
   "cell_type": "code",
   "execution_count": 13,
   "metadata": {
    "colab": {
     "base_uri": "https://localhost:8080/",
     "height": 229
    },
    "executionInfo": {
     "elapsed": 265,
     "status": "error",
     "timestamp": 1633200105701,
     "user": {
      "displayName": "조익범",
      "photoUrl": "https://lh3.googleusercontent.com/a/default-user=s64",
      "userId": "14327429975968192412"
     },
     "user_tz": -540
    },
    "id": "Ly906DhkTHie",
    "outputId": "4bb401b0-62aa-4ad9-d73c-9352b8e18a95"
   },
   "outputs": [
    {
     "ename": "NameError",
     "evalue": "ignored",
     "output_type": "error",
     "traceback": [
      "\u001b[0;31m---------------------------------------------------------------------------\u001b[0m",
      "\u001b[0;31mNameError\u001b[0m                                 Traceback (most recent call last)",
      "\u001b[0;32m<ipython-input-13-ab116e26e19e>\u001b[0m in \u001b[0;36m<module>\u001b[0;34m()\u001b[0m\n\u001b[1;32m      5\u001b[0m \u001b[0;31m# Name Erorrs\u001b[0m\u001b[0;34m\u001b[0m\u001b[0;34m\u001b[0m\u001b[0;34m\u001b[0m\u001b[0m\n\u001b[1;32m      6\u001b[0m \u001b[0;34m\u001b[0m\u001b[0m\n\u001b[0;32m----> 7\u001b[0;31m \u001b[0mprint\u001b[0m\u001b[0;34m(\u001b[0m\u001b[0mworkout\u001b[0m\u001b[0;34m)\u001b[0m\u001b[0;34m\u001b[0m\u001b[0;34m\u001b[0m\u001b[0m\n\u001b[0m\u001b[1;32m      8\u001b[0m \u001b[0mworkout\u001b[0m \u001b[0;34m=\u001b[0m \u001b[0;34m\"bench press\"\u001b[0m\u001b[0;34m\u001b[0m\u001b[0;34m\u001b[0m\u001b[0m\n",
      "\u001b[0;31mNameError\u001b[0m: name 'workout' is not defined"
     ]
    }
   ],
   "source": [
    "\"\"\"\n",
    "Erorrs\n",
    "\"\"\"\n",
    "\n",
    "# Name Erorrs\n",
    "\n",
    "print(workout)\n",
    "workout = \"bench press\""
   ]
  }
 ],
 "metadata": {
  "colab": {
   "authorship_tag": "ABX9TyP4k1zPJdWw3b/9GnnGkaXk",
   "name": "1_hello_world.ipynb",
   "provenance": []
  },
  "kernelspec": {
   "display_name": "Python 3",
   "language": "python",
   "name": "python3"
  },
  "language_info": {
   "codemirror_mode": {
    "name": "ipython",
    "version": 3
   },
   "file_extension": ".py",
   "mimetype": "text/x-python",
   "name": "python",
   "nbconvert_exporter": "python",
   "pygments_lexer": "ipython3",
   "version": "3.8.8"
  }
 },
 "nbformat": 4,
 "nbformat_minor": 4
}
