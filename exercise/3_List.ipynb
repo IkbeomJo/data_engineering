{
 "cells": [
  {
   "cell_type": "code",
   "execution_count": null,
   "metadata": {
    "colab": {
     "base_uri": "https://localhost:8080/"
    },
    "id": "8iJbRskCi-c5",
    "outputId": "47c68285-2838-4183-ea3e-f4175df36e5e"
   },
   "outputs": [
    {
     "name": "stdout",
     "output_type": "stream",
     "text": [
      "[2, 3, 5, 7, 11, 2]\n",
      "[]\n"
     ]
    }
   ],
   "source": [
    "\"\"\"\n",
    "List\n",
    "\"\"\"\n",
    "\n",
    "primes = [2, 3, 5, 7, 11, 2]\n",
    "print(primes)\n",
    "\n",
    "empty_list =[];\n",
    "print(empty_list)"
   ]
  },
  {
   "cell_type": "code",
   "execution_count": 1,
   "metadata": {
    "colab": {
     "base_uri": "https://localhost:8080/"
    },
    "id": "ewBHzM2njU70",
    "outputId": "e4346b19-fc81-47cf-8b85-381ecfc84af3"
   },
   "outputs": [
    {
     "name": "stdout",
     "output_type": "stream",
     "text": [
      "['Jenny', 1, 1.4, True]\n",
      "[['x', 1], ['y', 2]]\n",
      "<class 'list'>\n"
     ]
    }
   ],
   "source": [
    "\"\"\"\n",
    "Multiple different data types\n",
    "\"\"\"\n",
    "\n",
    "mixed = [\"Jenny\", 1, 1.4, True]\n",
    "print(mixed)\n",
    "list_of_lists = [['x', 1], ['y', 2]]\n",
    "print(list_of_lists)\n",
    "print(type(list_of_lists))"
   ]
  },
  {
   "cell_type": "code",
   "execution_count": null,
   "metadata": {
    "colab": {
     "base_uri": "https://localhost:8080/"
    },
    "id": "0I75ByCLj4uP",
    "outputId": "da5ca995-6a0e-4c12-855c-9d1a33bd156c"
   },
   "outputs": [
    {
     "name": "stdout",
     "output_type": "stream",
     "text": [
      "익범\n",
      "길동\n",
      "영희\n",
      "철수\n"
     ]
    }
   ],
   "source": [
    "\"\"\"\n",
    "Zero-indexing\n",
    "\"\"\"\n",
    "\n",
    "names = ['익범', '길동', '영희', '철수']\n",
    "\n",
    "print(names[0])\n",
    "print(names[1])\n",
    "print(names[2])\n",
    "print(names[3])"
   ]
  },
  {
   "cell_type": "code",
   "execution_count": null,
   "metadata": {
    "colab": {
     "base_uri": "https://localhost:8080/"
    },
    "id": "DpiikOtEkWKY",
    "outputId": "9c0aa7f7-e6be-4242-b40b-8740a9f45706"
   },
   "outputs": [
    {
     "name": "stdout",
     "output_type": "stream",
     "text": [
      "철수\n",
      "영희\n",
      "길동\n",
      "익범\n"
     ]
    }
   ],
   "source": [
    "\"\"\"\n",
    "Negative indexing\n",
    "\"\"\"\n",
    "\n",
    "print(names[-1])\n",
    "print(names[-2])\n",
    "print(names[-3])\n",
    "print(names[-4])"
   ]
  },
  {
   "cell_type": "code",
   "execution_count": null,
   "metadata": {
    "colab": {
     "base_uri": "https://localhost:8080/"
    },
    "id": "wxcJTLbkjVwn",
    "outputId": "f5d386cd-d99b-41c5-b3da-4bcda42dbac4"
   },
   "outputs": [
    {
     "name": "stdout",
     "output_type": "stream",
     "text": [
      "['장공관', '필헌관', '소통관']\n"
     ]
    }
   ],
   "source": [
    "\"\"\"\n",
    "List slicing\n",
    "\"\"\"\n",
    "\n",
    "hsu_buildings = ['만우관', '장공관', '필헌관', '소통관', '송암관', '늦봄관', '장준하통인관']\n",
    "building_slice = hsu_buildings[1:4]\n",
    "print(building_slice)\n"
   ]
  },
  {
   "cell_type": "code",
   "execution_count": null,
   "metadata": {
    "colab": {
     "base_uri": "https://localhost:8080/"
    },
    "id": "arNK3MKpmq5I",
    "outputId": "1fca2216-cc21-4d49-9480-0168b0d9762f"
   },
   "outputs": [
    {
     "name": "stdout",
     "output_type": "stream",
     "text": [
      "[['해우리', '한식', '고s'], ['짜장명가', '중식', '중화비빔밥'], ['찌개동아리', '한식', '곱창전골'], ['맘스터치', '양식', '싸이버거']]\n",
      "[['해우리', '한식', '해우라면'], ['짜장명가', '중식', '중화비빔밥'], ['찌개동아리', '한식', '곱창전골'], ['맘스터치', '양식', '싸이버거']]\n"
     ]
    }
   ],
   "source": [
    "\"\"\"\n",
    "multi-dimensional Lists\n",
    "\"\"\"\n",
    "\n",
    "restaurants = [['해우리', '한식', '고s'] , \n",
    "               ['짜장명가', '중식', '중화비빔밥'] , \n",
    "               ['찌개동아리', '한식', '곱창전골'] , \n",
    "               ['맘스터치', '양식', '싸이버거']]\n",
    "\n",
    "print(restaurants)\n",
    "\n",
    "restaurants[0][2] = '해우라면'\n",
    "\n",
    "print(restaurants)\n"
   ]
  },
  {
   "cell_type": "code",
   "execution_count": null,
   "metadata": {
    "colab": {
     "base_uri": "https://localhost:8080/"
    },
    "id": "A4oj-qiinlF7",
    "outputId": "ccfc6f42-e194-4f1c-8f69-189b524aeb8e"
   },
   "outputs": [
    {
     "name": "stdout",
     "output_type": "stream",
     "text": [
      "['cake', 'cookie', 'bread', 'biscuit', 'tart']\n"
     ]
    }
   ],
   "source": [
    "\"\"\"\n",
    "Adding Lists Together\n",
    "\"\"\"\n",
    "\n",
    "items_one = ['cake', 'cookie', 'bread']\n",
    "items_two = ['biscuit', 'tart']\n",
    "total_items = items_one + items_two\n",
    "print(total_items)"
   ]
  },
  {
   "cell_type": "code",
   "execution_count": null,
   "metadata": {
    "colab": {
     "base_uri": "https://localhost:8080/"
    },
    "id": "PFYo8zl4owN0",
    "outputId": "22b7b288-f72d-4acc-b059-74c77bc7986a"
   },
   "outputs": [
    {
     "name": "stdout",
     "output_type": "stream",
     "text": [
      "5\n",
      "['daisies', 'periwinkle', 'tulipe']\n",
      "['Karla', 'Maxium', 'Vikor', 'Martin', 'Isabella']\n"
     ]
    }
   ],
   "source": [
    "\"\"\"\n",
    "useful Methods for Lists\n",
    "\"\"\"\n",
    "#len()\n",
    "knapsack = [2, 4, 3, 7, 5]\n",
    "size = len(knapsack)\n",
    "print(size)\n",
    "\n",
    "# append()\n",
    "order = ['daisies', 'periwinkle']\n",
    "order.append('tulipe')\n",
    "print(order)\n",
    "\n",
    "#insert()\n",
    "store_line = ['Karla', 'Maxium', 'Martin', \"Isabella\"]\n",
    "store_line.insert(2, 'Vikor')\n",
    "print(store_line)"
   ]
  }
 ],
 "metadata": {
  "colab": {
   "name": "Untitled0.ipynb의 사본",
   "provenance": []
  },
  "kernelspec": {
   "display_name": "Python 3",
   "language": "python",
   "name": "python3"
  },
  "language_info": {
   "codemirror_mode": {
    "name": "ipython",
    "version": 3
   },
   "file_extension": ".py",
   "mimetype": "text/x-python",
   "name": "python",
   "nbconvert_exporter": "python",
   "pygments_lexer": "ipython3",
   "version": "3.8.8"
  }
 },
 "nbformat": 4,
 "nbformat_minor": 4
}
