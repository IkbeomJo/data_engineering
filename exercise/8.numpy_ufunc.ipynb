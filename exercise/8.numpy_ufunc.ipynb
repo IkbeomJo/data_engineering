{
 "cells": [
  {
   "cell_type": "code",
   "execution_count": 2,
   "id": "7d81c551-6ec9-4477-a8af-f2abaf642da4",
   "metadata": {},
   "outputs": [],
   "source": [
    "import numpy as np"
   ]
  },
  {
   "cell_type": "code",
   "execution_count": 6,
   "id": "4b5390f2-4c09-4ac5-a50b-be0223a2bde4",
   "metadata": {},
   "outputs": [
    {
     "name": "stdout",
     "output_type": "stream",
     "text": [
      "[6 6 1 9 4]\n"
     ]
    },
    {
     "data": {
      "text/plain": [
       "array([0.16666667, 0.16666667, 1.        , 0.11111111, 0.25      ])"
      ]
     },
     "execution_count": 6,
     "metadata": {},
     "output_type": "execute_result"
    }
   ],
   "source": [
    "\"\"\"\n",
    "Computing reciprocals in loops\n",
    "\"\"\"\n",
    "\n",
    "def compute_reciprocals(values):\n",
    "    output = np.empty(len(values))\n",
    "    for i in range(len(values)):\n",
    "        output[i] = 1.0 / values[i]\n",
    "    return output\n",
    "\n",
    "values = np.random.randint(1, 10, size=5)\n",
    "print(values)\n",
    "\n",
    "compute_reciprocals(values)\n"
   ]
  },
  {
   "cell_type": "code",
   "execution_count": 9,
   "id": "351671ee-4304-43e6-b2a2-e058c122d44e",
   "metadata": {},
   "outputs": [
    {
     "name": "stdout",
     "output_type": "stream",
     "text": [
      "1.55 s ± 11.6 ms per loop (mean ± std. dev. of 7 runs, 1 loop each)\n",
      "2.27 ms ± 18.7 µs per loop (mean ± std. dev. of 7 runs, 100 loops each)\n"
     ]
    }
   ],
   "source": [
    "\"\"\"\n",
    "Comparison: Loop vs uFuncs(vectorized)\n",
    "\"\"\"\n",
    "\n",
    "big_array = np. random.randint(1, 100, size=1000000)\n",
    "#Loop\n",
    "%timeit compute_reciprocals(big_array)\n",
    "\n",
    "#uFuncs\n",
    "%timeit 1 / big_array"
   ]
  },
  {
   "cell_type": "code",
   "execution_count": 14,
   "id": "046d8f27-a67e-47ba-b81d-ebdc8ef2e54a",
   "metadata": {},
   "outputs": [
    {
     "name": "stdout",
     "output_type": "stream",
     "text": [
      "[5 8 9 5 0] [0 1 7 6 9]\n",
      "[ 3  6  7  3 -2]\n",
      "[ 3  7 14  9  7]\n",
      "[[ 4 16 25  4 16]\n",
      " [ 4 16 49 49 81]\n",
      " [ 1 49  0 36 81]]\n"
     ]
    }
   ],
   "source": [
    "\"\"\"\n",
    "numpy.ufunc\n",
    "\"\"\"\n",
    "\n",
    "np.random.seed(1)\n",
    "arr1 = np.random.randint(10, size=(5))\n",
    "arr2 = np.random.randint(10, size=(5))\n",
    "print(arr1, arr2)\n",
    "\n",
    "arr1 = arr1 -2\n",
    "print(arr1)\n",
    "\n",
    "arr3= arr1 + arr2\n",
    "print(arr3)              \n",
    "\n",
    "arr4 = np.random.randint(10, size=(3,5))\n",
    "\n",
    "arr5= arr4**2\n",
    "print(arr5)"
   ]
  },
  {
   "cell_type": "code",
   "execution_count": 15,
   "id": "d8ac6626-04d1-4de1-a2f3-7be4b976ae33",
   "metadata": {},
   "outputs": [
    {
     "name": "stdout",
     "output_type": "stream",
     "text": [
      "x       = [0 1 2 3]\n",
      "x  +  5 = [5 6 7 8]\n",
      "x  -  5 = [-5 -4 -3 -2]\n",
      "x  *  2 = [0 2 4 6]\n",
      "x  /  2 = [0.  0.5 1.  1.5]\n",
      "x  **  5 = [0 1 4 9]\n",
      "x  +  5 = [5 6 7 8]\n",
      "x  -  5 = [-5 -4 -3 -2]\n",
      "x  *  2 = [0 2 4 6]\n",
      "x  /  2 = [0.  0.5 1.  1.5]\n",
      "x  **  2 = [0 1 4 9]\n"
     ]
    }
   ],
   "source": [
    "\"\"\"\n",
    "UFuncs: Array Arithmetic\n",
    "\"\"\"\n",
    "\n",
    "x = np.arange(4)\n",
    "print(\"x       =\", x)\n",
    "print(\"x  +  5 =\", x+5)\n",
    "print(\"x  -  5 =\", x-5)\n",
    "print(\"x  *  2 =\", x*2)\n",
    "print(\"x  /  2 =\", x/2)\n",
    "print(\"x  **  5 =\", x**2)\n",
    "\n",
    "# use ufuncs\n",
    "print(\"x  +  5 =\", np.add(x,5))\n",
    "print(\"x  -  5 =\", np.subtract(x,5))\n",
    "print(\"x  *  2 =\", np.multiply(x,2))\n",
    "print(\"x  /  2 =\", np.divide(x,2))\n",
    "print(\"x  **  2 =\", np.power(x,2))\n"
   ]
  },
  {
   "cell_type": "code",
   "execution_count": 16,
   "id": "3917300a-f5c8-419e-babd-39a3c3176abd",
   "metadata": {},
   "outputs": [
    {
     "name": "stdout",
     "output_type": "stream",
     "text": [
      "[2 6 0 3 9]\n"
     ]
    }
   ],
   "source": [
    "\"\"\"\n",
    "UFuncs: Absolute value\n",
    "\"\"\"\n",
    "\n",
    "x= np.array(+[-2, -6, 0, 3, 9])\n",
    "print(np.abs(x))\n",
    "\n",
    "x= np.array([3])"
   ]
  },
  {
   "cell_type": "code",
   "execution_count": 17,
   "id": "c8a0f92b-d568-453b-9056-1a732efee8b5",
   "metadata": {},
   "outputs": [
    {
     "name": "stdout",
     "output_type": "stream",
     "text": [
      "[0.         1.57079633 3.14159265]\n",
      "[0.0000000e+00 1.0000000e+00 1.2246468e-16]\n",
      "[ 1.000000e+00  6.123234e-17 -1.000000e+00]\n",
      "[ 0.00000000e+00  1.63312394e+16 -1.22464680e-16]\n"
     ]
    }
   ],
   "source": [
    "\"\"\"\n",
    "Ufuncs: Trigonometric Functions\n",
    "\"\"\"\n",
    "\n",
    "theta = np.linspace(0, np.pi, 3)\n",
    "\n",
    "print(theta)\n",
    "\n",
    "print(np.sin(theta))\n",
    "print(np.cos(theta))\n",
    "print(np.tan(theta))"
   ]
  },
  {
   "cell_type": "code",
   "execution_count": 18,
   "id": "15a04782-26ae-44b0-ad47-f73953c79e73",
   "metadata": {},
   "outputs": [
    {
     "name": "stdout",
     "output_type": "stream",
     "text": [
      "[1 2 3 4]\n",
      "10\n",
      "24\n"
     ]
    }
   ],
   "source": [
    "\"\"\"\n",
    "UFuncs: Aggregation\n",
    "\"\"\"\n",
    "\n",
    "x= np.arange(1,5)\n",
    "print(x)\n",
    "\n",
    "aggr = np.add.reduce(x)\n",
    "print(aggr)\n",
    "\n",
    "aggr = np.multiply.reduce(x)\n",
    "print(aggr)"
   ]
  },
  {
   "cell_type": "code",
   "execution_count": 19,
   "id": "eb37f2e1-b3b5-4374-a4cd-6b20f05b4705",
   "metadata": {},
   "outputs": [
    {
     "name": "stdout",
     "output_type": "stream",
     "text": [
      "[ 1  2  3  4  5  6  7  8  9 10 11 12 13 14]\n",
      "[  1   3   6  10  15  21  28  36  45  55  66  78  91 105]\n"
     ]
    }
   ],
   "source": [
    "# accumulate()\n",
    "\n",
    "x=np.arange(1, 15)\n",
    "print(x)\n",
    "\n",
    "accum = np.add.accumulate(x)\n",
    "print(accum)\n"
   ]
  },
  {
   "cell_type": "code",
   "execution_count": 22,
   "id": "80cb9678-5869-4e02-b461-17f70fc2c3d1",
   "metadata": {},
   "outputs": [
    {
     "name": "stdout",
     "output_type": "stream",
     "text": [
      "[0.4359949  0.02592623 0.54966248 ... 0.78483191 0.00778062 0.42442656]\n",
      "sum = 499468.5166853333\n",
      "62.4 ms ± 280 µs per loop (mean ± std. dev. of 7 runs, 10 loops each)\n",
      "476 µs ± 14.1 µs per loop (mean ± std. dev. of 7 runs, 1000 loops each)\n"
     ]
    }
   ],
   "source": [
    "# Summing the volues in an Array\n",
    "\n",
    "np.random.seed(2)\n",
    "arr=np.random.rand(1000000)\n",
    "\n",
    "print(arr)\n",
    "print('sum =', np.sum(arr))\n",
    "\n",
    "%timeit sum(arr)\n",
    "%timeit np.sum(arr)"
   ]
  },
  {
   "cell_type": "code",
   "execution_count": 23,
   "id": "898a97f4-7467-4ac6-bae9-9abdb4a1c89a",
   "metadata": {},
   "outputs": [
    {
     "name": "stdout",
     "output_type": "stream",
     "text": [
      "max = 0.9999976661165695\n",
      "min = 9.475783189216713e-07\n",
      "mean = 0.49946851668533326\n",
      "median = 0.49948650836352526\n",
      "percentile = 0.9004310892470595\n",
      "False\n",
      "True\n"
     ]
    }
   ],
   "source": [
    "# other aggr. function\n",
    "print(\"max =\", np.max(arr))\n",
    "print(\"min =\", np.min(arr))\n",
    "print(\"mean =\", np.mean(arr))\n",
    "print(\"median =\", np.median(arr))\n",
    "print(\"percentile =\", np.percentile(arr, 90))\n",
    "print(np.any(arr>1))\n",
    "print(np.all(arr>0))"
   ]
  },
  {
   "cell_type": "code",
   "execution_count": 25,
   "id": "bad39433-b9f7-4f2a-bf6a-990ede050bcd",
   "metadata": {},
   "outputs": [
    {
     "name": "stdout",
     "output_type": "stream",
     "text": [
      "[[3 6 6 0]\n",
      " [9 8 4 7]\n",
      " [0 0 7 1]]\n",
      "[12 14 17  8]\n"
     ]
    }
   ],
   "source": [
    "#Multi dimensional aggregotes\n",
    "\n",
    "np.random.seed(5)\n",
    "\n",
    "arr = np.random.randint(10, size=(3,4))\n",
    "print(arr)\n",
    "\n",
    "print(np.sum(arr, axis=0))"
   ]
  },
  {
   "cell_type": "code",
   "execution_count": null,
   "id": "a9cd8a01-3514-48c6-ad81-1af3e1c9526e",
   "metadata": {},
   "outputs": [],
   "source": []
  }
 ],
 "metadata": {
  "kernelspec": {
   "display_name": "Python 3",
   "language": "python",
   "name": "python3"
  },
  "language_info": {
   "codemirror_mode": {
    "name": "ipython",
    "version": 3
   },
   "file_extension": ".py",
   "mimetype": "text/x-python",
   "name": "python",
   "nbconvert_exporter": "python",
   "pygments_lexer": "ipython3",
   "version": "3.8.8"
  }
 },
 "nbformat": 4,
 "nbformat_minor": 5
}
