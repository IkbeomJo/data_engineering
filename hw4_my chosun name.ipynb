{
 "cells": [
  {
   "cell_type": "code",
   "execution_count": 24,
   "id": "870e2737-36fc-44bb-82aa-03856adc43f3",
   "metadata": {},
   "outputs": [
    {
     "name": "stdout",
     "output_type": "stream",
     "text": [
      "['쌍', '쇠', '복', '돌', '팽', '육', '쌍', '개', '칠', '갑', '삼', '방']\n",
      "['봉', '구', '욕', '포', '똥', '삼', '식', '석', '놈', '님', '년', '돌', '단', '득', '방', '질', '장', '걸', '래', '룡', '동', '순', '자', '박', '창', '언', '것', '포', '만', '단', '국']\n",
      "당신의 조선시대 이름은 안칠걸 입니다.\n"
     ]
    }
   ],
   "source": [
    "#1. 태어난 달(month)에 해당되는 이름의 첫번째 글자를 구하기 위한 리스트를 생성하시오.\n",
    "Month = ['쌍', '쇠', '복', '돌', '팽', '육', '쌍', '개', '칠', '갑', '삼', '방']\n",
    "print(month)\n",
    "\n",
    "#2. 태어난 날짜(day)에 해당되는 이름의 두번째 글자를 구하기 위한 리스트를 생성하시오.\n",
    "Day = ['봉', '구', '욕', '포', '똥', '삼', '식', '석', '놈', '님', '년', '돌', '단', '득', '방', '질', '장', '걸', '래', '룡', '동', '순', '자', '박', '창', '언', '것', '포', '만', '단', '국']\n",
    "print(day)\n",
    "\n",
    "#3. 나의 조선시대 이름을 문자열로 반환하는 함수 get_my_chosun_name() 을 작성하시오.\n",
    "def get_my_chosun_name(family_name, month, day):\n",
    "    print(\"당신의 조선시대 이름은 \"+ family_name + Month[month-1] + Day[day-1]+ \" 입니다.\")\n",
    "\n",
    "#4. 완성된 함수를 호출하여 나의 조선시대 이름을 출력하시오.\n",
    "get_my_chosun_name('안', 9, 18)"
   ]
  }
 ],
 "metadata": {
  "kernelspec": {
   "display_name": "Python 3",
   "language": "python",
   "name": "python3"
  },
  "language_info": {
   "codemirror_mode": {
    "name": "ipython",
    "version": 3
   },
   "file_extension": ".py",
   "mimetype": "text/x-python",
   "name": "python",
   "nbconvert_exporter": "python",
   "pygments_lexer": "ipython3",
   "version": "3.8.8"
  }
 },
 "nbformat": 4,
 "nbformat_minor": 5
}
