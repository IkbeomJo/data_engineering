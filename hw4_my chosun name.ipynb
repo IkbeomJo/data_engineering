{
 "cells": [
  {
   "cell_type": "code",
   "execution_count": 11,
   "id": "f2c73ab9-61e5-4448-a84f-3c89d303ddf4",
   "metadata": {},
   "outputs": [],
   "source": [
    "import numpy as np"
   ]
  },
  {
   "cell_type": "code",
   "execution_count": 22,
   "id": "870e2737-36fc-44bb-82aa-03856adc43f3",
   "metadata": {},
   "outputs": [
    {
     "name": "stdout",
     "output_type": "stream",
     "text": [
      "['쌍', '쇠', '복', '돌', '팽', '육', '쌍', '개', '칠', '갑', '삼', '방']\n",
      "['봉', '구', '욕', '포', '똥', '삼', '식', '석', '놈', '님', '년', '돌', '단', '득', '방', '질', '장', '걸', '래', '룡', '동', '순', '자', '박', '창', '언', '것', '포', '만', '단', '국']\n",
      "당신의 조선시대 이름은 안칠걸 입니다.\n"
     ]
    }
   ],
   "source": [
    "#1. 태어난 달(month)에 해당되는 이름의 첫번째 글자를 구하기 위한 리스트를 생성하시오.\n",
    "Month = ['쌍', '쇠', '복', '돌', '팽', '육', '쌍', '개', '칠', '갑', '삼', '방']\n",
    "print(month)\n",
    "\n",
    "#2. 태어난 날짜(day)에 해당되는 이름의 두번째 글자를 구하기 위한 리스트를 생성하시오.\n",
    "Day = ['봉', '구', '욕', '포', '똥', '삼', '식', '석', '놈', '님', '년', '돌', '단', '득', '방', '질', '장', '걸', '래', '룡', '동', '순', '자', '박', '창', '언', '것', '포', '만', '단', '국']\n",
    "print(day)\n",
    "나의 조선시대 이름을 문자열로 반환하는 함수 get_my_chosun_name() 을 작성하시오.\n",
    "def get_my_chosun_name(family_name, month, day):\n",
    "    print(\"당신의 조선시대 이름은 \"+ family_name + Month[month-1] + Day[day-1]+ \" 입니다.\")\n",
    "\n",
    "get_my_chosun_name('안', 9, 18)"
   ]
  },
  {
   "cell_type": "code",
   "execution_count": null,
   "id": "0a72ee45-5dca-4697-baf9-b5bd91a73e43",
   "metadata": {},
   "outputs": [],
   "source": []
  },
  {
   "cell_type": "code",
   "execution_count": null,
   "id": "2d16e0a5-3f8a-44b2-8f7f-c6b2dfad25f9",
   "metadata": {},
   "outputs": [],
   "source": []
  },
  {
   "cell_type": "code",
   "execution_count": null,
   "id": "a788da4b-eaae-4668-acc2-3b8924b8d0f0",
   "metadata": {},
   "outputs": [],
   "source": []
  }
 ],
 "metadata": {
  "kernelspec": {
   "display_name": "Python 3",
   "language": "python",
   "name": "python3"
  },
  "language_info": {
   "codemirror_mode": {
    "name": "ipython",
    "version": 3
   },
   "file_extension": ".py",
   "mimetype": "text/x-python",
   "name": "python",
   "nbconvert_exporter": "python",
   "pygments_lexer": "ipython3",
   "version": "3.8.8"
  }
 },
 "nbformat": 4,
 "nbformat_minor": 5
}
