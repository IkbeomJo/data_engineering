{
  "nbformat": 4,
  "nbformat_minor": 0,
  "metadata": {
    "colab": {
      "name": "hw3.ipynb",
      "provenance": [],
      "collapsed_sections": []
    },
    "kernelspec": {
      "name": "python3",
      "display_name": "Python 3"
    },
    "language_info": {
      "name": "python"
    }
  },
  "cells": [
    {
      "cell_type": "code",
      "metadata": {
        "colab": {
          "base_uri": "https://localhost:8080/"
        },
        "id": "-228tj73NfXa",
        "outputId": "ecb70804-f120-41d2-e921-98aeb218ea67"
      },
      "source": [
        "hairstyles = [\"bouffant\", \"pixie\", \"dreadlocks\", \"crew\", \"bowl\", \"bob\", \"mohawk\", \"flattop\"]\n",
        "prices = [30, 25, 40, 20, 20, 35, 50, 35]\n",
        "last_week = [2, 3, 5, 8, 4, 4, 6, 2]\n",
        "\n",
        "total_price = 0\n",
        "for num in prices:\n",
        "  total_price += num\n",
        "\n",
        "average_price = total_price / len(prices)\n",
        "print('Average price is', average_price)\n",
        "\n",
        "new_prices = [prices[i]-5 for i in range(len(prices))]\n",
        "print(new_prices)\n",
        "\n",
        "total_revenue = 0\n",
        "\n",
        "for i in range(len(hairstyles)):\n",
        "  total_revenue += prices[i] * last_week[i]\n",
        "\n",
        "print('total revenue is', total_revenue)\n",
        "\n",
        "average_daily_revenue = total_revenue / 7\n",
        "print('Average daily revenue is', average_daily_revenue)\n",
        "\n",
        "cuts_under_30 = [hairstyles[i] for i in range(len(new_prices)) if new_prices[i]<30]\n",
        "print(cuts_under_30)\n"
      ],
      "execution_count": 12,
      "outputs": [
        {
          "output_type": "stream",
          "name": "stdout",
          "text": [
            "Average price is 31.875\n",
            "[25, 20, 35, 15, 15, 30, 45, 30]\n",
            "total revenue is 1085\n",
            "Average daily revenue is 155.0\n",
            "['bouffant', 'pixie', 'crew', 'bowl']\n"
          ]
        }
      ]
    }
  ]
}